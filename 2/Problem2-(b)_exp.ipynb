{
 "cells": [
  {
   "cell_type": "code",
   "execution_count": 193,
   "id": "ef219aab-5d92-4678-bcf1-d01e940076bf",
   "metadata": {},
   "outputs": [
    {
     "name": "stdout",
     "output_type": "stream",
     "text": [
      "\n",
      ">>> 8 qubits\n"
     ]
    },
    {
     "name": "stderr",
     "output_type": "stream",
     "text": [
      "/var/folders/4h/nkpffcmn54v3c7rkqc6jvw9h0000gn/T/ipykernel_9493/2151579.py:22: DeprecationWarning: The class ``qiskit.primitives.estimator.Estimator`` is deprecated as of qiskit 1.2. It will be removed no earlier than 3 months after the release date. All implementations of the `BaseEstimatorV1` interface have been deprecated in favor of their V2 counterparts. The V2 alternative for the `Estimator` class is `StatevectorEstimator`.\n",
      "  estimator = Estimator(),\n",
      "/var/folders/4h/nkpffcmn54v3c7rkqc6jvw9h0000gn/T/ipykernel_9493/2151579.py:18: DeprecationWarning: V1 Primitives are deprecated as of qiskit-machine-learning 0.8.0 and will be removed no sooner than 4 months after the release date. Use V2 primitives for continued compatibility and support.\n",
      "  qnn = EstimatorQNN(\n"
     ]
    },
    {
     "name": "stdout",
     "output_type": "stream",
     "text": [
      "Fisher eigenvalues: [166.72217    97.07688    55.913723   52.23465    43.064907   31.928005\n",
      "  24.408154   16.163515   13.790872    9.840891    9.678327    7.1581798\n",
      "   5.8372436   3.21663     2.3143084   1.2147013]\n",
      "number of weights = 16, ED = 9.0698, normalized = 0.5669\n",
      "\n",
      ">>> 11 qubits\n"
     ]
    },
    {
     "name": "stderr",
     "output_type": "stream",
     "text": [
      "/var/folders/4h/nkpffcmn54v3c7rkqc6jvw9h0000gn/T/ipykernel_9493/2151579.py:22: DeprecationWarning: The class ``qiskit.primitives.estimator.Estimator`` is deprecated as of qiskit 1.2. It will be removed no earlier than 3 months after the release date. All implementations of the `BaseEstimatorV1` interface have been deprecated in favor of their V2 counterparts. The V2 alternative for the `Estimator` class is `StatevectorEstimator`.\n",
      "  estimator = Estimator(),\n",
      "/var/folders/4h/nkpffcmn54v3c7rkqc6jvw9h0000gn/T/ipykernel_9493/2151579.py:18: DeprecationWarning: V1 Primitives are deprecated as of qiskit-machine-learning 0.8.0 and will be removed no sooner than 4 months after the release date. Use V2 primitives for continued compatibility and support.\n",
      "  qnn = EstimatorQNN(\n",
      "/opt/anaconda3/envs/myenv/lib/python3.13/site-packages/qiskit_machine_learning/connectors/torch_connector.py:378: UserWarning: To copy construct from a tensor, it is recommended to use sourceTensor.detach().clone() or sourceTensor.detach().clone().requires_grad_(True), rather than torch.tensor(sourceTensor).\n",
      "  self._weights.data = torch.tensor(initial_weights, dtype=torch.float)\n"
     ]
    },
    {
     "name": "stdout",
     "output_type": "stream",
     "text": [
      "Fisher eigenvalues: [3.1355806e+03 2.4490613e+02 9.7893959e+01 7.3195572e+01 4.8832146e+01\n",
      " 4.0391644e+01 3.5605537e+01 3.4997166e+01 2.1264141e+01 1.9395800e+01\n",
      " 1.8338034e+01 1.5134655e+01 1.1938050e+01 9.9074869e+00 9.3551884e+00\n",
      " 7.9515901e+00 5.7390957e+00 4.9694147e+00 3.8943057e+00 3.5893459e+00\n",
      " 2.7384429e+00 1.1142331e+00]\n",
      "number of weights = 22, ED = 12.5195, normalized = 0.5691\n",
      "\n",
      ">>> 14 qubits\n"
     ]
    },
    {
     "name": "stderr",
     "output_type": "stream",
     "text": [
      "/var/folders/4h/nkpffcmn54v3c7rkqc6jvw9h0000gn/T/ipykernel_9493/2151579.py:22: DeprecationWarning: The class ``qiskit.primitives.estimator.Estimator`` is deprecated as of qiskit 1.2. It will be removed no earlier than 3 months after the release date. All implementations of the `BaseEstimatorV1` interface have been deprecated in favor of their V2 counterparts. The V2 alternative for the `Estimator` class is `StatevectorEstimator`.\n",
      "  estimator = Estimator(),\n",
      "/var/folders/4h/nkpffcmn54v3c7rkqc6jvw9h0000gn/T/ipykernel_9493/2151579.py:18: DeprecationWarning: V1 Primitives are deprecated as of qiskit-machine-learning 0.8.0 and will be removed no sooner than 4 months after the release date. Use V2 primitives for continued compatibility and support.\n",
      "  qnn = EstimatorQNN(\n",
      "/opt/anaconda3/envs/myenv/lib/python3.13/site-packages/qiskit_machine_learning/connectors/torch_connector.py:378: UserWarning: To copy construct from a tensor, it is recommended to use sourceTensor.detach().clone() or sourceTensor.detach().clone().requires_grad_(True), rather than torch.tensor(sourceTensor).\n",
      "  self._weights.data = torch.tensor(initial_weights, dtype=torch.float)\n"
     ]
    },
    {
     "name": "stdout",
     "output_type": "stream",
     "text": [
      "Fisher eigenvalues: [346.31073    208.33015     72.9539      63.639065    41.008347\n",
      "  29.545017    25.263245    22.953924    18.427391    16.125776\n",
      "  14.539372    13.044581    10.976768     9.285286     7.9945035\n",
      "   6.818163     6.5713744    5.366359     4.8889995    4.2531705\n",
      "   3.2689261    2.4721313    2.2308066    1.9794748    1.7527424\n",
      "   1.5641229    1.2030932    0.79487175]\n",
      "number of weights = 28, ED = 16.0738, normalized = 0.5741\n"
     ]
    }
   ],
   "source": [
    "import numpy as np\n",
    "from qiskit import QuantumCircuit\n",
    "from qiskit.circuit.library import ZZFeatureMap, RealAmplitudes\n",
    "from qiskit.primitives import Estimator\n",
    "from qiskit.quantum_info import SparsePauliOp, Pauli\n",
    "from qiskit_machine_learning.neural_networks import EstimatorQNN, EffectiveDimension\n",
    "from qiskit_machine_learning.connectors import TorchConnector\n",
    "\n",
    "def build_qnn(n_qubits) : \n",
    "    feature_map = ZZFeatureMap(feature_dimension=n_qubits, reps=1)\n",
    "    ansatz = RealAmplitudes(num_qubits=n_qubits, reps=1, entanglement='linear')\n",
    "    qc = QuantumCircuit(n_qubits)\n",
    "    qc.compose(feature_map, inplace=True)\n",
    "    qc.compose(ansatz, inplace=True)\n",
    "\n",
    "    obs = [SparsePauliOp(Pauli('Z' + 'I' * (n_qubits - 1)))]\n",
    "\n",
    "    qnn = EstimatorQNN(\n",
    "        circuit = qc,\n",
    "        input_params = feature_map.parameters,\n",
    "        weight_params = ansatz.parameters,\n",
    "        estimator = Estimator(),\n",
    "    )\n",
    "    return qnn, qnn.num_weights\n",
    "\n",
    "def compute_log_probs_grads(qnn, X, theta_np) : \n",
    "    init_theta = torch.tensor(theta_np, dtype=torch.float32)\n",
    "    torch_qnn = TorchConnector(qnn, initial_weights=init_theta)\n",
    "\n",
    "    grads = []\n",
    "    for x in X : \n",
    "        x_t = torch.tensor(x, dtype=torch.float32)\n",
    "        probs = torch_qnn(x_t)\n",
    "        p0 = probs[0].clamp(min=1e-8)\n",
    "        logp0 = torch.log(p0)\n",
    "        \n",
    "        grad_w, = torch.autograd.grad(\n",
    "            logp0,\n",
    "            torch_qnn._weights,                     # ← weight parameter\n",
    "            retain_graph=False,\n",
    "            allow_unused=False\n",
    "        )\n",
    "        grads.append(grad_w.detach().cpu().numpy())\n",
    "    return np.vstack(grads)\n",
    "\n",
    "def fisher_eigenvalues(grads) : \n",
    "    fim = grads.T @ grads / grads.shape[0]\n",
    "    eigs = np.linalg.eigvals(fim)\n",
    "    return np.sort(eigs)[::-1]\n",
    "\n",
    "if __name__ == '__main__' : \n",
    "    sample_size = 750\n",
    "    results = []\n",
    "\n",
    "    for n_qubits in [8, 11, 14] : \n",
    "        print(f'\\n>>> {n_qubits} qubits')\n",
    "        qnn, num_params = build_qnn(n_qubits)\n",
    "\n",
    "        X = np.random.uniform(0, 1, size=(sample_size, n_qubits))\n",
    "        theta0 = np.random.uniform(-np.pi, np.pi, size=(num_params, ))\n",
    "\n",
    "        grads = compute_log_probs_grads(qnn, X, theta0)\n",
    "\n",
    "        eigvals = fisher_eigenvalues(grads)\n",
    "        print('Fisher eigenvalues:', eigvals)\n",
    "\n",
    "        ed_calc = EffectiveDimension(\n",
    "            qnn=qnn,\n",
    "            weight_samples=num_params,\n",
    "            input_samples=n_qubits\n",
    "        )\n",
    "        ed = ed_calc.get_effective_dimension(dataset_size=sample_size)\n",
    "        print(f'number of weights = {num_params}, ED = {ed:.4f}, normalized = {ed / num_params:.4f}')\n",
    "\n",
    "        results.append({\n",
    "            'n_qubits': n_qubits,\n",
    "            'fisher_eigvals': eigvals,\n",
    "            'ED': ed,\n",
    "            'normalized_ED': ed / num_params\n",
    "        })        "
   ]
  },
  {
   "cell_type": "code",
   "execution_count": 194,
   "id": "de557f90-ff31-4050-9393-1ccfcb639b71",
   "metadata": {},
   "outputs": [
    {
     "name": "stderr",
     "output_type": "stream",
     "text": [
      "/var/folders/4h/nkpffcmn54v3c7rkqc6jvw9h0000gn/T/ipykernel_9493/2944229620.py:5: MatplotlibDeprecationWarning: The 'labels' parameter of boxplot() has been renamed 'tick_labels' since Matplotlib 3.9; support for the old name will be dropped in 3.11.\n",
      "  plt.boxplot(eigenvalue_lists, labels=qubit_labels, showfliers=False)\n"
     ]
    },
    {
     "data": {
      "image/png": "[encoded data removed]",
      "text/plain": [
       "<Figure size 1000x600 with 1 Axes>"
      ]
     },
     "metadata": {},
     "output_type": "display_data"
    }
   ],
   "source": [
    "eigenvalue_lists = [result['fisher_eigvals'] for result in results]\n",
    "qubit_labels = [f\"{result['n_qubits']} qubits\" for result in results]\n",
    "\n",
    "plt.figure(figsize=(10, 6))\n",
    "plt.boxplot(eigenvalue_lists, labels=qubit_labels, showfliers=False)\n",
    "plt.xlabel(\"Number of Qubits\")\n",
    "plt.ylabel(\"Fisher Information Eigenvalues\")\n",
    "plt.title(\"Distribution of Fisher Information Eigenvalues by Qubit Count\")\n",
    "plt.grid(True)\n",
    "plt.tight_layout()\n",
    "plt.show()"
   ]
  },
  {
   "cell_type": "code",
   "execution_count": 195,
   "id": "d0eac65e-3c7a-48e7-9c5c-258d345e6371",
   "metadata": {},
   "outputs": [],
   "source": [
    "eight_qubits_eigvals = np.array(eigenvalue_lists[0])\n",
    "eleven_qubits_eigvals = np.array(eigenvalue_lists[1])\n",
    "fourteen_qubits_eigvals = np.array(eigenvalue_lists[2])"
   ]
  },
  {
   "cell_type": "code",
   "execution_count": 196,
   "id": "cf82667c-a90e-4ebb-b330-b405e0fa3aeb",
   "metadata": {},
   "outputs": [
    {
     "name": "stdout",
     "output_type": "stream",
     "text": [
      "mean = 14.977193832397461, std = 42.59266662597656\n",
      "mean = 16.736343383789062, std = 648.1640625\n",
      "mean = 8.639894485473633, std = 72.22811889648438\n"
     ]
    }
   ],
   "source": [
    "print(f'mean = {np.median(eight_qubits_eigvals)}, std = {np.std(eight_qubits_eigvals)}')\n",
    "print(f'mean = {np.median(eleven_qubits_eigvals)}, std = {np.std(eleven_qubits_eigvals)}')\n",
    "print(f'mean = {np.median(fourteen_qubits_eigvals)}, std = {np.std(fourteen_qubits_eigvals)}')"
   ]
  },
  {
   "cell_type": "code",
   "execution_count": null,
   "id": "426c7d0b-be4e-43ae-bac9-6ae8609d6616",
   "metadata": {},
   "outputs": [],
   "source": []
  }
 ],
 "metadata": {
  "kernelspec": {
   "display_name": "Python 3 (ipykernel)",
   "language": "python",
   "name": "python3"
  },
  "language_info": {
   "codemirror_mode": {
    "name": "ipython",
    "version": 3
   },
   "file_extension": ".py",
   "mimetype": "text/x-python",
   "name": "python",
   "nbconvert_exporter": "python",
   "pygments_lexer": "ipython3",
   "version": "3.13.2"
  }
 },
 "nbformat": 4,
 "nbformat_minor": 5
}
