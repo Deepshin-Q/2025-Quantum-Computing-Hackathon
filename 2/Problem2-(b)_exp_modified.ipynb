{
 "cells": [
  {
   "cell_type": "code",
   "execution_count": 12,
   "id": "ef219aab-5d92-4678-bcf1-d01e940076bf",
   "metadata": {},
   "outputs": [
    {
     "name": "stdout",
     "output_type": "stream",
     "text": [
      "\n",
      ">>> 3 qubits\n"
     ]
    },
    {
     "name": "stderr",
     "output_type": "stream",
     "text": [
      "/var/folders/4h/nkpffcmn54v3c7rkqc6jvw9h0000gn/T/ipykernel_17321/3636718277.py:23: DeprecationWarning: The class ``qiskit.primitives.estimator.Estimator`` is deprecated as of qiskit 1.2. It will be removed no earlier than 3 months after the release date. All implementations of the `BaseEstimatorV1` interface have been deprecated in favor of their V2 counterparts. The V2 alternative for the `Estimator` class is `StatevectorEstimator`.\n",
      "  estimator = Estimator(),\n",
      "/var/folders/4h/nkpffcmn54v3c7rkqc6jvw9h0000gn/T/ipykernel_17321/3636718277.py:19: DeprecationWarning: V1 Primitives are deprecated as of qiskit-machine-learning 0.8.0 and will be removed no sooner than 4 months after the release date. Use V2 primitives for continued compatibility and support.\n",
      "  qnn = EstimatorQNN(\n"
     ]
    },
    {
     "name": "stdout",
     "output_type": "stream",
     "text": [
      "Fisher eigenvalues: [206.39801   114.04485    34.22276    17.666111    7.244274    3.4467459]\n",
      "number of weights = 6, ED = 3.4508, normalized = 0.5751\n",
      "\n",
      ">>> 8 qubits\n"
     ]
    },
    {
     "name": "stderr",
     "output_type": "stream",
     "text": [
      "/var/folders/4h/nkpffcmn54v3c7rkqc6jvw9h0000gn/T/ipykernel_17321/3636718277.py:23: DeprecationWarning: The class ``qiskit.primitives.estimator.Estimator`` is deprecated as of qiskit 1.2. It will be removed no earlier than 3 months after the release date. All implementations of the `BaseEstimatorV1` interface have been deprecated in favor of their V2 counterparts. The V2 alternative for the `Estimator` class is `StatevectorEstimator`.\n",
      "  estimator = Estimator(),\n",
      "/var/folders/4h/nkpffcmn54v3c7rkqc6jvw9h0000gn/T/ipykernel_17321/3636718277.py:19: DeprecationWarning: V1 Primitives are deprecated as of qiskit-machine-learning 0.8.0 and will be removed no sooner than 4 months after the release date. Use V2 primitives for continued compatibility and support.\n",
      "  qnn = EstimatorQNN(\n",
      "/opt/anaconda3/envs/myenv/lib/python3.13/site-packages/qiskit_machine_learning/connectors/torch_connector.py:378: UserWarning: To copy construct from a tensor, it is recommended to use sourceTensor.detach().clone() or sourceTensor.detach().clone().requires_grad_(True), rather than torch.tensor(sourceTensor).\n",
      "  self._weights.data = torch.tensor(initial_weights, dtype=torch.float)\n"
     ]
    },
    {
     "name": "stdout",
     "output_type": "stream",
     "text": [
      "Fisher eigenvalues: [1.1443823e+04 5.1942090e+03 5.7324377e+02 3.4669366e+02 2.3619130e+02\n",
      " 1.1301717e+02 4.7729912e+01 4.4612381e+01 3.3025246e+01 1.2374118e+01\n",
      " 8.9581299e+00 8.7837934e+00 4.5940609e+00 3.6039090e+00 3.0151920e+00\n",
      " 2.7549657e-01]\n",
      "number of weights = 16, ED = 9.1378, normalized = 0.5711\n",
      "\n",
      ">>> 13 qubits\n"
     ]
    },
    {
     "name": "stderr",
     "output_type": "stream",
     "text": [
      "/var/folders/4h/nkpffcmn54v3c7rkqc6jvw9h0000gn/T/ipykernel_17321/3636718277.py:23: DeprecationWarning: The class ``qiskit.primitives.estimator.Estimator`` is deprecated as of qiskit 1.2. It will be removed no earlier than 3 months after the release date. All implementations of the `BaseEstimatorV1` interface have been deprecated in favor of their V2 counterparts. The V2 alternative for the `Estimator` class is `StatevectorEstimator`.\n",
      "  estimator = Estimator(),\n",
      "/var/folders/4h/nkpffcmn54v3c7rkqc6jvw9h0000gn/T/ipykernel_17321/3636718277.py:19: DeprecationWarning: V1 Primitives are deprecated as of qiskit-machine-learning 0.8.0 and will be removed no sooner than 4 months after the release date. Use V2 primitives for continued compatibility and support.\n",
      "  qnn = EstimatorQNN(\n",
      "/opt/anaconda3/envs/myenv/lib/python3.13/site-packages/qiskit_machine_learning/connectors/torch_connector.py:378: UserWarning: To copy construct from a tensor, it is recommended to use sourceTensor.detach().clone() or sourceTensor.detach().clone().requires_grad_(True), rather than torch.tensor(sourceTensor).\n",
      "  self._weights.data = torch.tensor(initial_weights, dtype=torch.float)\n"
     ]
    },
    {
     "name": "stdout",
     "output_type": "stream",
     "text": [
      "Fisher eigenvalues: [6.6793633e+03 3.6994839e+02 1.8834355e+02 1.2902469e+02 9.2506264e+01\n",
      " 5.6303738e+01 2.4406281e+01 1.9865885e+01 1.4158094e+01 1.2537500e+01\n",
      " 1.1298227e+01 9.3017406e+00 8.8279896e+00 7.0327454e+00 5.3158240e+00\n",
      " 4.9657722e+00 4.2007389e+00 3.9025450e+00 3.3010087e+00 2.9713738e+00\n",
      " 2.6483183e+00 2.0611336e+00 1.8994069e+00 1.5669173e+00 1.2830117e+00\n",
      " 1.1065853e+00]\n",
      "number of weights = 26, ED = 14.7967, normalized = 0.5691\n"
     ]
    }
   ],
   "source": [
    "import numpy as np\n",
    "from qiskit import QuantumCircuit\n",
    "from qiskit.circuit.library import ZZFeatureMap, RealAmplitudes\n",
    "from qiskit.primitives import Estimator\n",
    "from qiskit.quantum_info import SparsePauliOp, Pauli\n",
    "from qiskit_machine_learning.neural_networks import EstimatorQNN, EffectiveDimension\n",
    "from qiskit_machine_learning.connectors import TorchConnector\n",
    "import torch\n",
    "\n",
    "def build_qnn(n_qubits) : \n",
    "    feature_map = ZZFeatureMap(feature_dimension=n_qubits, reps=1)\n",
    "    ansatz = RealAmplitudes(num_qubits=n_qubits, reps=1)\n",
    "    qc = QuantumCircuit(n_qubits)\n",
    "    qc.compose(feature_map, inplace=True)\n",
    "    qc.compose(ansatz, inplace=True)\n",
    "\n",
    "    obs = [SparsePauliOp(Pauli('Z' + 'I' * (n_qubits - 1)))]\n",
    "\n",
    "    qnn = EstimatorQNN(\n",
    "        circuit = qc,\n",
    "        input_params = feature_map.parameters,\n",
    "        weight_params = ansatz.parameters,\n",
    "        estimator = Estimator(),\n",
    "    )\n",
    "    return qnn, qnn.num_weights\n",
    "\n",
    "def compute_log_probs_grads(qnn, X, theta_np) : \n",
    "    init_theta = torch.tensor(theta_np, dtype=torch.float32)\n",
    "    torch_qnn = TorchConnector(qnn, initial_weights=init_theta)\n",
    "\n",
    "    grads = []\n",
    "    for x in X : \n",
    "        x_t = torch.tensor(x, dtype=torch.float32)\n",
    "        probs = torch_qnn(x_t)\n",
    "        p0 = probs[0].clamp(min=1e-8)\n",
    "        logp0 = torch.log(p0)\n",
    "        \n",
    "        grad_w, = torch.autograd.grad(\n",
    "            logp0,\n",
    "            torch_qnn._weights,                     # ← weight parameter\n",
    "            retain_graph=False,\n",
    "            allow_unused=False\n",
    "        )\n",
    "        grads.append(grad_w.detach().cpu().numpy())\n",
    "    return np.vstack(grads)\n",
    "\n",
    "def fisher_eigenvalues(grads) : \n",
    "    fim = grads.T @ grads / grads.shape[0]\n",
    "    eigs = np.linalg.eigvals(fim)\n",
    "    return np.sort(eigs)[::-1]\n",
    "\n",
    "if __name__ == '__main__' : \n",
    "    sample_size = 750\n",
    "    results = []\n",
    "\n",
    "    for n_qubits in [3, 8, 13] : \n",
    "        print(f'\\n>>> {n_qubits} qubits')\n",
    "        qnn, num_params = build_qnn(n_qubits)\n",
    "\n",
    "        X = np.random.uniform(0, 1, size=(sample_size, n_qubits))\n",
    "        theta0 = np.random.uniform(-np.pi, np.pi, size=(num_params, ))\n",
    "\n",
    "        grads = compute_log_probs_grads(qnn, X, theta0)\n",
    "\n",
    "        eigvals = fisher_eigenvalues(grads)\n",
    "        print('Fisher eigenvalues:', eigvals)\n",
    "\n",
    "        ed_calc = EffectiveDimension(\n",
    "            qnn=qnn,\n",
    "            weight_samples=num_params,\n",
    "            input_samples=n_qubits\n",
    "        )\n",
    "        ed = ed_calc.get_effective_dimension(dataset_size=sample_size)\n",
    "        print(f'number of weights = {num_params}, ED = {ed:.4f}, normalized = {ed / num_params:.4f}')\n",
    "\n",
    "        results.append({\n",
    "            'n_qubits': n_qubits,\n",
    "            'fisher_eigvals': eigvals,\n",
    "            'ED': ed,\n",
    "            'normalized_ED': ed / num_params\n",
    "        })        "
   ]
  },
  {
   "cell_type": "code",
   "execution_count": 13,
   "id": "de557f90-ff31-4050-9393-1ccfcb639b71",
   "metadata": {},
   "outputs": [
    {
     "name": "stderr",
     "output_type": "stream",
     "text": [
      "/var/folders/4h/nkpffcmn54v3c7rkqc6jvw9h0000gn/T/ipykernel_17321/219378338.py:7: MatplotlibDeprecationWarning: The 'labels' parameter of boxplot() has been renamed 'tick_labels' since Matplotlib 3.9; support for the old name will be dropped in 3.11.\n",
      "  plt.boxplot(eigenvalue_lists, labels=qubit_labels, showfliers=False)\n"
     ]
    },
    {
     "data": {
      "image/png": "[encoded data removed]",
      "text/plain": [
       "<Figure size 1000x600 with 1 Axes>"
      ]
     },
     "metadata": {},
     "output_type": "display_data"
    }
   ],
   "source": [
    "import matplotlib.pyplot as plt\n",
    "\n",
    "eigenvalue_lists = [result['fisher_eigvals'] for result in results]\n",
    "qubit_labels = [f\"{result['n_qubits']} qubits\" for result in results]\n",
    "\n",
    "plt.figure(figsize=(10, 6))\n",
    "plt.boxplot(eigenvalue_lists, labels=qubit_labels, showfliers=False)\n",
    "plt.xlabel(\"Number of Qubits\")\n",
    "plt.ylabel(\"Fisher Information Eigenvalues\")\n",
    "plt.title(\"Distribution of Fisher Information Eigenvalues by Qubit Count\")\n",
    "plt.grid(True)\n",
    "plt.tight_layout()\n",
    "plt.show()"
   ]
  },
  {
   "cell_type": "code",
   "execution_count": 14,
   "id": "d0eac65e-3c7a-48e7-9c5c-258d345e6371",
   "metadata": {},
   "outputs": [],
   "source": [
    "eight_qubits_eigvals = np.array(eigenvalue_lists[0])\n",
    "eleven_qubits_eigvals = np.array(eigenvalue_lists[1])\n",
    "fourteen_qubits_eigvals = np.array(eigenvalue_lists[2])"
   ]
  },
  {
   "cell_type": "code",
   "execution_count": 15,
   "id": "cf82667c-a90e-4ebb-b330-b405e0fa3aeb",
   "metadata": {},
   "outputs": [
    {
     "name": "stdout",
     "output_type": "stream",
     "text": [
      "MEDIAN = 25.944435119628906, MAD = 30.540012072369727\n",
      "MEDIAN = 38.81881332397461, MAD = 52.646111805099686\n",
      "MEDIAN = 7.930367469787598, MAD = 8.821627313869396\n"
     ]
    }
   ],
   "source": [
    "from statsmodels import robust\n",
    "\n",
    "print(f'MEDIAN = {np.median(eight_qubits_eigvals)}, MAD = {robust.mad(eight_qubits_eigvals)}')\n",
    "print(f'MEDIAN = {np.median(eleven_qubits_eigvals)}, MAD = {robust.mad(eleven_qubits_eigvals)}')\n",
    "print(f'MEDIAN = {np.median(fourteen_qubits_eigvals)}, MAD = {robust.mad(fourteen_qubits_eigvals)}')"
   ]
  },
  {
   "cell_type": "code",
   "execution_count": null,
   "id": "426c7d0b-be4e-43ae-bac9-6ae8609d6616",
   "metadata": {},
   "outputs": [],
   "source": []
  }
 ],
 "metadata": {
  "kernelspec": {
   "display_name": "Python 3 (ipykernel)",
   "language": "python",
   "name": "python3"
  },
  "language_info": {
   "codemirror_mode": {
    "name": "ipython",
    "version": 3
   },
   "file_extension": ".py",
   "mimetype": "text/x-python",
   "name": "python",
   "nbconvert_exporter": "python",
   "pygments_lexer": "ipython3",
   "version": "3.13.2"
  }
 },
 "nbformat": 4,
 "nbformat_minor": 5
}
